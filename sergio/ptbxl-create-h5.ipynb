{
 "cells": [
  {
   "cell_type": "code",
   "execution_count": 2,
   "metadata": {},
   "outputs": [],
   "source": [
    "from dataset_ptbxl import Ptbxl_dataset"
   ]
  },
  {
   "cell_type": "code",
   "execution_count": 3,
   "metadata": {},
   "outputs": [
    {
     "ename": "KeyboardInterrupt",
     "evalue": "",
     "output_type": "error",
     "traceback": [
      "\u001b[0;31m---------------------------------------------------------------------------\u001b[0m",
      "\u001b[0;31mKeyboardInterrupt\u001b[0m                         Traceback (most recent call last)",
      "Cell \u001b[0;32mIn[3], line 1\u001b[0m\n\u001b[0;32m----> 1\u001b[0m data \u001b[38;5;241m=\u001b[39m \u001b[43mPtbxl_dataset\u001b[49m\u001b[43m(\u001b[49m\u001b[43m)\u001b[49m\n\u001b[1;32m      2\u001b[0m (X_train, y_train), (X_test, y_test) \u001b[38;5;241m=\u001b[39m data\u001b[38;5;241m.\u001b[39mget_data_split(test_fold\u001b[38;5;241m=\u001b[39m\u001b[38;5;241m10\u001b[39m)\n\u001b[1;32m      3\u001b[0m \u001b[38;5;28mprint\u001b[39m(X_train\u001b[38;5;241m.\u001b[39mshape, y_train\u001b[38;5;241m.\u001b[39mshape, X_test\u001b[38;5;241m.\u001b[39mshape, y_test\u001b[38;5;241m.\u001b[39mshape)\n",
      "File \u001b[0;32m~/ECG-Classification/src/antonio/dataset_ptbxl.py:34\u001b[0m, in \u001b[0;36mPtbxl_dataset.__init__\u001b[0;34m(self, path, sampling_rate)\u001b[0m\n\u001b[1;32m     32\u001b[0m     data \u001b[38;5;241m=\u001b[39m [wfdb\u001b[38;5;241m.\u001b[39mrdsamp(path\u001b[38;5;241m+\u001b[39mf) \u001b[38;5;28;01mfor\u001b[39;00m f \u001b[38;5;129;01min\u001b[39;00m \u001b[38;5;28mself\u001b[39m\u001b[38;5;241m.\u001b[39mY\u001b[38;5;241m.\u001b[39mfilename_lr]\n\u001b[1;32m     33\u001b[0m \u001b[38;5;28;01melse\u001b[39;00m:\n\u001b[0;32m---> 34\u001b[0m     data \u001b[38;5;241m=\u001b[39m \u001b[43m[\u001b[49m\u001b[43mwfdb\u001b[49m\u001b[38;5;241;43m.\u001b[39;49m\u001b[43mrdsamp\u001b[49m\u001b[43m(\u001b[49m\u001b[43mpath\u001b[49m\u001b[38;5;241;43m+\u001b[39;49m\u001b[43mf\u001b[49m\u001b[43m)\u001b[49m\u001b[43m \u001b[49m\u001b[38;5;28;43;01mfor\u001b[39;49;00m\u001b[43m \u001b[49m\u001b[43mf\u001b[49m\u001b[43m \u001b[49m\u001b[38;5;129;43;01min\u001b[39;49;00m\u001b[43m \u001b[49m\u001b[38;5;28;43mself\u001b[39;49m\u001b[38;5;241;43m.\u001b[39;49m\u001b[43mY\u001b[49m\u001b[38;5;241;43m.\u001b[39;49m\u001b[43mfilename_hr\u001b[49m\u001b[43m]\u001b[49m\n\u001b[1;32m     35\u001b[0m \u001b[38;5;28mself\u001b[39m\u001b[38;5;241m.\u001b[39mX \u001b[38;5;241m=\u001b[39m np\u001b[38;5;241m.\u001b[39marray([signal \u001b[38;5;28;01mfor\u001b[39;00m signal, meta \u001b[38;5;129;01min\u001b[39;00m data])\n",
      "File \u001b[0;32m~/ECG-Classification/src/antonio/dataset_ptbxl.py:34\u001b[0m, in \u001b[0;36m<listcomp>\u001b[0;34m(.0)\u001b[0m\n\u001b[1;32m     32\u001b[0m     data \u001b[38;5;241m=\u001b[39m [wfdb\u001b[38;5;241m.\u001b[39mrdsamp(path\u001b[38;5;241m+\u001b[39mf) \u001b[38;5;28;01mfor\u001b[39;00m f \u001b[38;5;129;01min\u001b[39;00m \u001b[38;5;28mself\u001b[39m\u001b[38;5;241m.\u001b[39mY\u001b[38;5;241m.\u001b[39mfilename_lr]\n\u001b[1;32m     33\u001b[0m \u001b[38;5;28;01melse\u001b[39;00m:\n\u001b[0;32m---> 34\u001b[0m     data \u001b[38;5;241m=\u001b[39m [\u001b[43mwfdb\u001b[49m\u001b[38;5;241;43m.\u001b[39;49m\u001b[43mrdsamp\u001b[49m\u001b[43m(\u001b[49m\u001b[43mpath\u001b[49m\u001b[38;5;241;43m+\u001b[39;49m\u001b[43mf\u001b[49m\u001b[43m)\u001b[49m \u001b[38;5;28;01mfor\u001b[39;00m f \u001b[38;5;129;01min\u001b[39;00m \u001b[38;5;28mself\u001b[39m\u001b[38;5;241m.\u001b[39mY\u001b[38;5;241m.\u001b[39mfilename_hr]\n\u001b[1;32m     35\u001b[0m \u001b[38;5;28mself\u001b[39m\u001b[38;5;241m.\u001b[39mX \u001b[38;5;241m=\u001b[39m np\u001b[38;5;241m.\u001b[39marray([signal \u001b[38;5;28;01mfor\u001b[39;00m signal, meta \u001b[38;5;129;01min\u001b[39;00m data])\n",
      "File \u001b[0;32m~/miniconda3/envs/ecg/lib/python3.11/site-packages/wfdb/io/record.py:2317\u001b[0m, in \u001b[0;36mrdsamp\u001b[0;34m(record_name, sampfrom, sampto, channels, pn_dir, channel_names, warn_empty, return_res)\u001b[0m\n\u001b[1;32m   2312\u001b[0m     dir_list \u001b[38;5;241m=\u001b[39m pn_dir\u001b[38;5;241m.\u001b[39msplit(\u001b[38;5;124m\"\u001b[39m\u001b[38;5;124m/\u001b[39m\u001b[38;5;124m\"\u001b[39m)\n\u001b[1;32m   2313\u001b[0m     pn_dir \u001b[38;5;241m=\u001b[39m posixpath\u001b[38;5;241m.\u001b[39mjoin(\n\u001b[1;32m   2314\u001b[0m         dir_list[\u001b[38;5;241m0\u001b[39m], download\u001b[38;5;241m.\u001b[39mget_version(dir_list[\u001b[38;5;241m0\u001b[39m]), \u001b[38;5;241m*\u001b[39mdir_list[\u001b[38;5;241m1\u001b[39m:]\n\u001b[1;32m   2315\u001b[0m     )\n\u001b[0;32m-> 2317\u001b[0m record \u001b[38;5;241m=\u001b[39m \u001b[43mrdrecord\u001b[49m\u001b[43m(\u001b[49m\n\u001b[1;32m   2318\u001b[0m \u001b[43m    \u001b[49m\u001b[43mrecord_name\u001b[49m\u001b[38;5;241;43m=\u001b[39;49m\u001b[43mrecord_name\u001b[49m\u001b[43m,\u001b[49m\n\u001b[1;32m   2319\u001b[0m \u001b[43m    \u001b[49m\u001b[43msampfrom\u001b[49m\u001b[38;5;241;43m=\u001b[39;49m\u001b[43msampfrom\u001b[49m\u001b[43m,\u001b[49m\n\u001b[1;32m   2320\u001b[0m \u001b[43m    \u001b[49m\u001b[43msampto\u001b[49m\u001b[38;5;241;43m=\u001b[39;49m\u001b[43msampto\u001b[49m\u001b[43m,\u001b[49m\n\u001b[1;32m   2321\u001b[0m \u001b[43m    \u001b[49m\u001b[43mchannels\u001b[49m\u001b[38;5;241;43m=\u001b[39;49m\u001b[43mchannels\u001b[49m\u001b[43m,\u001b[49m\n\u001b[1;32m   2322\u001b[0m \u001b[43m    \u001b[49m\u001b[43mphysical\u001b[49m\u001b[38;5;241;43m=\u001b[39;49m\u001b[38;5;28;43;01mTrue\u001b[39;49;00m\u001b[43m,\u001b[49m\n\u001b[1;32m   2323\u001b[0m \u001b[43m    \u001b[49m\u001b[43mpn_dir\u001b[49m\u001b[38;5;241;43m=\u001b[39;49m\u001b[43mpn_dir\u001b[49m\u001b[43m,\u001b[49m\n\u001b[1;32m   2324\u001b[0m \u001b[43m    \u001b[49m\u001b[43mm2s\u001b[49m\u001b[38;5;241;43m=\u001b[39;49m\u001b[38;5;28;43;01mTrue\u001b[39;49;00m\u001b[43m,\u001b[49m\n\u001b[1;32m   2325\u001b[0m \u001b[43m    \u001b[49m\u001b[43mreturn_res\u001b[49m\u001b[38;5;241;43m=\u001b[39;49m\u001b[43mreturn_res\u001b[49m\u001b[43m,\u001b[49m\n\u001b[1;32m   2326\u001b[0m \u001b[43m    \u001b[49m\u001b[43mchannel_names\u001b[49m\u001b[38;5;241;43m=\u001b[39;49m\u001b[43mchannel_names\u001b[49m\u001b[43m,\u001b[49m\n\u001b[1;32m   2327\u001b[0m \u001b[43m    \u001b[49m\u001b[43mwarn_empty\u001b[49m\u001b[38;5;241;43m=\u001b[39;49m\u001b[43mwarn_empty\u001b[49m\u001b[43m,\u001b[49m\n\u001b[1;32m   2328\u001b[0m \u001b[43m\u001b[49m\u001b[43m)\u001b[49m\n\u001b[1;32m   2330\u001b[0m signals \u001b[38;5;241m=\u001b[39m record\u001b[38;5;241m.\u001b[39mp_signal\n\u001b[1;32m   2331\u001b[0m fields \u001b[38;5;241m=\u001b[39m {}\n",
      "File \u001b[0;32m~/miniconda3/envs/ecg/lib/python3.11/site-packages/wfdb/io/record.py:2113\u001b[0m, in \u001b[0;36mrdrecord\u001b[0;34m(record_name, sampfrom, sampto, channels, physical, pn_dir, m2s, smooth_frames, ignore_skew, return_res, force_channels, channel_names, warn_empty)\u001b[0m\n\u001b[1;32m   2110\u001b[0m no_file \u001b[38;5;241m=\u001b[39m \u001b[38;5;28;01mFalse\u001b[39;00m\n\u001b[1;32m   2111\u001b[0m sig_data \u001b[38;5;241m=\u001b[39m \u001b[38;5;28;01mNone\u001b[39;00m\n\u001b[0;32m-> 2113\u001b[0m record\u001b[38;5;241m.\u001b[39me_d_signal \u001b[38;5;241m=\u001b[39m \u001b[43m_signal\u001b[49m\u001b[38;5;241;43m.\u001b[39;49m\u001b[43m_rd_segment\u001b[49m\u001b[43m(\u001b[49m\n\u001b[1;32m   2114\u001b[0m \u001b[43m    \u001b[49m\u001b[43mfile_name\u001b[49m\u001b[38;5;241;43m=\u001b[39;49m\u001b[43mrecord\u001b[49m\u001b[38;5;241;43m.\u001b[39;49m\u001b[43mfile_name\u001b[49m\u001b[43m,\u001b[49m\n\u001b[1;32m   2115\u001b[0m \u001b[43m    \u001b[49m\u001b[43mdir_name\u001b[49m\u001b[38;5;241;43m=\u001b[39;49m\u001b[43mdir_name\u001b[49m\u001b[43m,\u001b[49m\n\u001b[1;32m   2116\u001b[0m \u001b[43m    \u001b[49m\u001b[43mpn_dir\u001b[49m\u001b[38;5;241;43m=\u001b[39;49m\u001b[43mpn_dir\u001b[49m\u001b[43m,\u001b[49m\n\u001b[1;32m   2117\u001b[0m \u001b[43m    \u001b[49m\u001b[43mfmt\u001b[49m\u001b[38;5;241;43m=\u001b[39;49m\u001b[43mrecord\u001b[49m\u001b[38;5;241;43m.\u001b[39;49m\u001b[43mfmt\u001b[49m\u001b[43m,\u001b[49m\n\u001b[1;32m   2118\u001b[0m \u001b[43m    \u001b[49m\u001b[43mn_sig\u001b[49m\u001b[38;5;241;43m=\u001b[39;49m\u001b[43mrecord\u001b[49m\u001b[38;5;241;43m.\u001b[39;49m\u001b[43mn_sig\u001b[49m\u001b[43m,\u001b[49m\n\u001b[1;32m   2119\u001b[0m \u001b[43m    \u001b[49m\u001b[43msig_len\u001b[49m\u001b[38;5;241;43m=\u001b[39;49m\u001b[43mrecord\u001b[49m\u001b[38;5;241;43m.\u001b[39;49m\u001b[43msig_len\u001b[49m\u001b[43m,\u001b[49m\n\u001b[1;32m   2120\u001b[0m \u001b[43m    \u001b[49m\u001b[43mbyte_offset\u001b[49m\u001b[38;5;241;43m=\u001b[39;49m\u001b[43mrecord\u001b[49m\u001b[38;5;241;43m.\u001b[39;49m\u001b[43mbyte_offset\u001b[49m\u001b[43m,\u001b[49m\n\u001b[1;32m   2121\u001b[0m \u001b[43m    \u001b[49m\u001b[43msamps_per_frame\u001b[49m\u001b[38;5;241;43m=\u001b[39;49m\u001b[43mrecord\u001b[49m\u001b[38;5;241;43m.\u001b[39;49m\u001b[43msamps_per_frame\u001b[49m\u001b[43m,\u001b[49m\n\u001b[1;32m   2122\u001b[0m \u001b[43m    \u001b[49m\u001b[43mskew\u001b[49m\u001b[38;5;241;43m=\u001b[39;49m\u001b[43mrecord\u001b[49m\u001b[38;5;241;43m.\u001b[39;49m\u001b[43mskew\u001b[49m\u001b[43m,\u001b[49m\n\u001b[1;32m   2123\u001b[0m \u001b[43m    \u001b[49m\u001b[43minit_value\u001b[49m\u001b[38;5;241;43m=\u001b[39;49m\u001b[43mrecord\u001b[49m\u001b[38;5;241;43m.\u001b[39;49m\u001b[43minit_value\u001b[49m\u001b[43m,\u001b[49m\n\u001b[1;32m   2124\u001b[0m \u001b[43m    \u001b[49m\u001b[43msampfrom\u001b[49m\u001b[38;5;241;43m=\u001b[39;49m\u001b[43msampfrom\u001b[49m\u001b[43m,\u001b[49m\n\u001b[1;32m   2125\u001b[0m \u001b[43m    \u001b[49m\u001b[43msampto\u001b[49m\u001b[38;5;241;43m=\u001b[39;49m\u001b[43msampto\u001b[49m\u001b[43m,\u001b[49m\n\u001b[1;32m   2126\u001b[0m \u001b[43m    \u001b[49m\u001b[43mchannels\u001b[49m\u001b[38;5;241;43m=\u001b[39;49m\u001b[43mchannels\u001b[49m\u001b[43m,\u001b[49m\n\u001b[1;32m   2127\u001b[0m \u001b[43m    \u001b[49m\u001b[43mignore_skew\u001b[49m\u001b[38;5;241;43m=\u001b[39;49m\u001b[43mignore_skew\u001b[49m\u001b[43m,\u001b[49m\n\u001b[1;32m   2128\u001b[0m \u001b[43m    \u001b[49m\u001b[43mno_file\u001b[49m\u001b[38;5;241;43m=\u001b[39;49m\u001b[43mno_file\u001b[49m\u001b[43m,\u001b[49m\n\u001b[1;32m   2129\u001b[0m \u001b[43m    \u001b[49m\u001b[43msig_data\u001b[49m\u001b[38;5;241;43m=\u001b[39;49m\u001b[43msig_data\u001b[49m\u001b[43m,\u001b[49m\n\u001b[1;32m   2130\u001b[0m \u001b[43m    \u001b[49m\u001b[43mreturn_res\u001b[49m\u001b[38;5;241;43m=\u001b[39;49m\u001b[43mreturn_res\u001b[49m\u001b[43m,\u001b[49m\n\u001b[1;32m   2131\u001b[0m \u001b[43m\u001b[49m\u001b[43m)\u001b[49m\n\u001b[1;32m   2133\u001b[0m \u001b[38;5;66;03m# Only 1 sample/frame, or frames are smoothed. Return uniform numpy array\u001b[39;00m\n\u001b[1;32m   2134\u001b[0m \u001b[38;5;28;01mif\u001b[39;00m smooth_frames:\n\u001b[1;32m   2135\u001b[0m     \u001b[38;5;66;03m# Arrange/edit the object fields to reflect user channel\u001b[39;00m\n\u001b[1;32m   2136\u001b[0m     \u001b[38;5;66;03m# and/or signal range input\u001b[39;00m\n",
      "File \u001b[0;32m~/miniconda3/envs/ecg/lib/python3.11/site-packages/wfdb/io/_signal.py:1207\u001b[0m, in \u001b[0;36m_rd_segment\u001b[0;34m(file_name, dir_name, pn_dir, fmt, n_sig, sig_len, byte_offset, samps_per_frame, skew, init_value, sampfrom, sampto, channels, ignore_skew, no_file, sig_data, return_res)\u001b[0m\n\u001b[1;32m   1203\u001b[0m signals \u001b[38;5;241m=\u001b[39m [\u001b[38;5;28;01mNone\u001b[39;00m] \u001b[38;5;241m*\u001b[39m \u001b[38;5;28mlen\u001b[39m(channels)\n\u001b[1;32m   1205\u001b[0m \u001b[38;5;28;01mfor\u001b[39;00m fn \u001b[38;5;129;01min\u001b[39;00m w_file_name:\n\u001b[1;32m   1206\u001b[0m     \u001b[38;5;66;03m# Get the list of all signals contained in the dat file\u001b[39;00m\n\u001b[0;32m-> 1207\u001b[0m     datsignals \u001b[38;5;241m=\u001b[39m \u001b[43m_rd_dat_signals\u001b[49m\u001b[43m(\u001b[49m\n\u001b[1;32m   1208\u001b[0m \u001b[43m        \u001b[49m\u001b[43mfile_name\u001b[49m\u001b[38;5;241;43m=\u001b[39;49m\u001b[43mfn\u001b[49m\u001b[43m,\u001b[49m\n\u001b[1;32m   1209\u001b[0m \u001b[43m        \u001b[49m\u001b[43mdir_name\u001b[49m\u001b[38;5;241;43m=\u001b[39;49m\u001b[43mdir_name\u001b[49m\u001b[43m,\u001b[49m\n\u001b[1;32m   1210\u001b[0m \u001b[43m        \u001b[49m\u001b[43mpn_dir\u001b[49m\u001b[38;5;241;43m=\u001b[39;49m\u001b[43mpn_dir\u001b[49m\u001b[43m,\u001b[49m\n\u001b[1;32m   1211\u001b[0m \u001b[43m        \u001b[49m\u001b[43mfmt\u001b[49m\u001b[38;5;241;43m=\u001b[39;49m\u001b[43mw_fmt\u001b[49m\u001b[43m[\u001b[49m\u001b[43mfn\u001b[49m\u001b[43m]\u001b[49m\u001b[43m,\u001b[49m\n\u001b[1;32m   1212\u001b[0m \u001b[43m        \u001b[49m\u001b[43mn_sig\u001b[49m\u001b[38;5;241;43m=\u001b[39;49m\u001b[38;5;28;43mlen\u001b[39;49m\u001b[43m(\u001b[49m\u001b[43mdatchannel\u001b[49m\u001b[43m[\u001b[49m\u001b[43mfn\u001b[49m\u001b[43m]\u001b[49m\u001b[43m)\u001b[49m\u001b[43m,\u001b[49m\n\u001b[1;32m   1213\u001b[0m \u001b[43m        \u001b[49m\u001b[43msig_len\u001b[49m\u001b[38;5;241;43m=\u001b[39;49m\u001b[43msig_len\u001b[49m\u001b[43m,\u001b[49m\n\u001b[1;32m   1214\u001b[0m \u001b[43m        \u001b[49m\u001b[43mbyte_offset\u001b[49m\u001b[38;5;241;43m=\u001b[39;49m\u001b[43mw_byte_offset\u001b[49m\u001b[43m[\u001b[49m\u001b[43mfn\u001b[49m\u001b[43m]\u001b[49m\u001b[43m,\u001b[49m\n\u001b[1;32m   1215\u001b[0m \u001b[43m        \u001b[49m\u001b[43msamps_per_frame\u001b[49m\u001b[38;5;241;43m=\u001b[39;49m\u001b[43mw_samps_per_frame\u001b[49m\u001b[43m[\u001b[49m\u001b[43mfn\u001b[49m\u001b[43m]\u001b[49m\u001b[43m,\u001b[49m\n\u001b[1;32m   1216\u001b[0m \u001b[43m        \u001b[49m\u001b[43mskew\u001b[49m\u001b[38;5;241;43m=\u001b[39;49m\u001b[43mw_skew\u001b[49m\u001b[43m[\u001b[49m\u001b[43mfn\u001b[49m\u001b[43m]\u001b[49m\u001b[43m,\u001b[49m\n\u001b[1;32m   1217\u001b[0m \u001b[43m        \u001b[49m\u001b[43minit_value\u001b[49m\u001b[38;5;241;43m=\u001b[39;49m\u001b[43mw_init_value\u001b[49m\u001b[43m[\u001b[49m\u001b[43mfn\u001b[49m\u001b[43m]\u001b[49m\u001b[43m,\u001b[49m\n\u001b[1;32m   1218\u001b[0m \u001b[43m        \u001b[49m\u001b[43msampfrom\u001b[49m\u001b[38;5;241;43m=\u001b[39;49m\u001b[43msampfrom\u001b[49m\u001b[43m,\u001b[49m\n\u001b[1;32m   1219\u001b[0m \u001b[43m        \u001b[49m\u001b[43msampto\u001b[49m\u001b[38;5;241;43m=\u001b[39;49m\u001b[43msampto\u001b[49m\u001b[43m,\u001b[49m\n\u001b[1;32m   1220\u001b[0m \u001b[43m        \u001b[49m\u001b[43mno_file\u001b[49m\u001b[38;5;241;43m=\u001b[39;49m\u001b[43mno_file\u001b[49m\u001b[43m,\u001b[49m\n\u001b[1;32m   1221\u001b[0m \u001b[43m        \u001b[49m\u001b[43msig_data\u001b[49m\u001b[38;5;241;43m=\u001b[39;49m\u001b[43msig_data\u001b[49m\u001b[43m,\u001b[49m\n\u001b[1;32m   1222\u001b[0m \u001b[43m    \u001b[49m\u001b[43m)\u001b[49m\n\u001b[1;32m   1224\u001b[0m     \u001b[38;5;66;03m# Copy over the wanted signals\u001b[39;00m\n\u001b[1;32m   1225\u001b[0m     \u001b[38;5;28;01mfor\u001b[39;00m cn \u001b[38;5;129;01min\u001b[39;00m \u001b[38;5;28mrange\u001b[39m(\u001b[38;5;28mlen\u001b[39m(out_dat_channel[fn])):\n",
      "File \u001b[0;32m~/miniconda3/envs/ecg/lib/python3.11/site-packages/wfdb/io/_signal.py:1347\u001b[0m, in \u001b[0;36m_rd_dat_signals\u001b[0;34m(file_name, dir_name, pn_dir, fmt, n_sig, sig_len, byte_offset, samps_per_frame, skew, init_value, sampfrom, sampto, no_file, sig_data)\u001b[0m\n\u001b[1;32m   1335\u001b[0m     data_to_read \u001b[38;5;241m=\u001b[39m _rd_compressed_file(\n\u001b[1;32m   1336\u001b[0m         file_name\u001b[38;5;241m=\u001b[39mfile_name,\n\u001b[1;32m   1337\u001b[0m         dir_name\u001b[38;5;241m=\u001b[39mdir_name,\n\u001b[0;32m   (...)\u001b[0m\n\u001b[1;32m   1344\u001b[0m         end_frame\u001b[38;5;241m=\u001b[39msampto,\n\u001b[1;32m   1345\u001b[0m     )\n\u001b[1;32m   1346\u001b[0m \u001b[38;5;28;01melse\u001b[39;00m:\n\u001b[0;32m-> 1347\u001b[0m     data_to_read \u001b[38;5;241m=\u001b[39m \u001b[43m_rd_dat_file\u001b[49m\u001b[43m(\u001b[49m\n\u001b[1;32m   1348\u001b[0m \u001b[43m        \u001b[49m\u001b[43mfile_name\u001b[49m\u001b[43m,\u001b[49m\u001b[43m \u001b[49m\u001b[43mdir_name\u001b[49m\u001b[43m,\u001b[49m\u001b[43m \u001b[49m\u001b[43mpn_dir\u001b[49m\u001b[43m,\u001b[49m\u001b[43m \u001b[49m\u001b[43mfmt\u001b[49m\u001b[43m,\u001b[49m\u001b[43m \u001b[49m\u001b[43mstart_byte\u001b[49m\u001b[43m,\u001b[49m\u001b[43m \u001b[49m\u001b[43mn_read_samples\u001b[49m\n\u001b[1;32m   1349\u001b[0m \u001b[43m    \u001b[49m\u001b[43m)\u001b[49m\n\u001b[1;32m   1351\u001b[0m \u001b[38;5;28;01mif\u001b[39;00m extra_flat_samples:\n\u001b[1;32m   1352\u001b[0m     \u001b[38;5;28;01mif\u001b[39;00m fmt \u001b[38;5;129;01min\u001b[39;00m UNALIGNED_FMTS:\n\u001b[1;32m   1353\u001b[0m         \u001b[38;5;66;03m# Extra number of bytes to append onto the bytes read from\u001b[39;00m\n\u001b[1;32m   1354\u001b[0m         \u001b[38;5;66;03m# the dat file.\u001b[39;00m\n",
      "File \u001b[0;32m~/miniconda3/envs/ecg/lib/python3.11/site-packages/wfdb/io/_signal.py:1650\u001b[0m, in \u001b[0;36m_rd_dat_file\u001b[0;34m(file_name, dir_name, pn_dir, fmt, start_byte, n_samp)\u001b[0m\n\u001b[1;32m   1648\u001b[0m     \u001b[38;5;28;01mwith\u001b[39;00m \u001b[38;5;28mopen\u001b[39m(os\u001b[38;5;241m.\u001b[39mpath\u001b[38;5;241m.\u001b[39mjoin(dir_name, file_name), \u001b[38;5;124m\"\u001b[39m\u001b[38;5;124mrb\u001b[39m\u001b[38;5;124m\"\u001b[39m) \u001b[38;5;28;01mas\u001b[39;00m fp:\n\u001b[1;32m   1649\u001b[0m         fp\u001b[38;5;241m.\u001b[39mseek(start_byte)\n\u001b[0;32m-> 1650\u001b[0m         sig_data \u001b[38;5;241m=\u001b[39m \u001b[43mnp\u001b[49m\u001b[38;5;241;43m.\u001b[39;49m\u001b[43mfromfile\u001b[49m\u001b[43m(\u001b[49m\n\u001b[1;32m   1651\u001b[0m \u001b[43m            \u001b[49m\u001b[43mfp\u001b[49m\u001b[43m,\u001b[49m\u001b[43m \u001b[49m\u001b[43mdtype\u001b[49m\u001b[38;5;241;43m=\u001b[39;49m\u001b[43mnp\u001b[49m\u001b[38;5;241;43m.\u001b[39;49m\u001b[43mdtype\u001b[49m\u001b[43m(\u001b[49m\u001b[43mDATA_LOAD_TYPES\u001b[49m\u001b[43m[\u001b[49m\u001b[43mfmt\u001b[49m\u001b[43m]\u001b[49m\u001b[43m)\u001b[49m\u001b[43m,\u001b[49m\u001b[43m \u001b[49m\u001b[43mcount\u001b[49m\u001b[38;5;241;43m=\u001b[39;49m\u001b[43melement_count\u001b[49m\n\u001b[1;32m   1652\u001b[0m \u001b[43m        \u001b[49m\u001b[43m)\u001b[49m\n\u001b[1;32m   1653\u001b[0m \u001b[38;5;66;03m# Stream dat file from Physionet\u001b[39;00m\n\u001b[1;32m   1654\u001b[0m \u001b[38;5;28;01melse\u001b[39;00m:\n\u001b[1;32m   1655\u001b[0m     dtype_in \u001b[38;5;241m=\u001b[39m np\u001b[38;5;241m.\u001b[39mdtype(DATA_LOAD_TYPES[fmt])\n",
      "\u001b[0;31mKeyboardInterrupt\u001b[0m: "
     ]
    }
   ],
   "source": [
    "data = Ptbxl_dataset()\n",
    "(X_train, y_train), (X_test, y_test) = data.get_data_split(test_fold=10)\n",
    "print(X_train.shape, y_train.shape, X_test.shape, y_test.shape)\n",
    "print(y_test[:10])\n",
    "#find all unique classes in y_train and y_test\n",
    "unique_classes = set()\n",
    "for i in y_train:\n",
    "    for j in i:\n",
    "        unique_classes.add(j)\n",
    "for i in y_test:\n",
    "    for j in i:\n",
    "        unique_classes.add(j)\n",
    "print(unique_classes)"
   ]
  },
  {
   "cell_type": "code",
   "execution_count": null,
   "metadata": {},
   "outputs": [],
   "source": [
    "unique_classes = ['NORM', 'MI', 'STTC', 'CD', 'HYP']"
   ]
  },
  {
   "cell_type": "code",
   "execution_count": 4,
   "metadata": {},
   "outputs": [
    {
     "name": "stdout",
     "output_type": "stream",
     "text": [
      "(19601, 5) (2198, 5)\n"
     ]
    }
   ],
   "source": [
    "# convert y_train and y_test to one hot encoding\n",
    "y_train = data.one_hot_encode(y_train, unique_classes)\n",
    "y_test = data.one_hot_encode(y_test, unique_classes)\n",
    "print(y_train.shape, y_test.shape)"
   ]
  },
  {
   "cell_type": "code",
   "execution_count": null,
   "metadata": {},
   "outputs": [],
   "source": []
  },
  {
   "cell_type": "code",
   "execution_count": 5,
   "metadata": {},
   "outputs": [],
   "source": [
    "import pandas as pd\n",
    "#Export y train and y test to csv with unique classes as header\n",
    "y_train_df = pd.DataFrame(y_train, columns=unique_classes)\n",
    "y_test_df = pd.DataFrame(y_test, columns=unique_classes)"
   ]
  },
  {
   "cell_type": "code",
   "execution_count": 8,
   "metadata": {},
   "outputs": [],
   "source": [
    "\n",
    "y_train_df.to_csv('y_train_ptb.csv', index=False)"
   ]
  },
  {
   "cell_type": "code",
   "execution_count": null,
   "metadata": {},
   "outputs": [],
   "source": [
    "y_test_df.to_csv('y_test_ptb.csv', index=False)"
   ]
  },
  {
   "cell_type": "code",
   "execution_count": null,
   "metadata": {},
   "outputs": [],
   "source": [
    "# y_df = pd.concat([y_train_df, y_test_df])\n",
    "# y_df.to_csv('y_ptb.csv', index=False)"
   ]
  },
  {
   "cell_type": "code",
   "execution_count": null,
   "metadata": {},
   "outputs": [],
   "source": [
    "import h5py\n",
    "import numpy as np"
   ]
  },
  {
   "cell_type": "code",
   "execution_count": 9,
   "metadata": {},
   "outputs": [],
   "source": [
    "with h5py.File('X_train_ptb.h5', 'w') as hf:\n",
    "    hf.create_dataset(\"tracings\",  data=X_train)"
   ]
  },
  {
   "cell_type": "code",
   "execution_count": null,
   "metadata": {},
   "outputs": [],
   "source": [
    "with h5py.File('X_test_ptb.h5', 'w') as hf:\n",
    "    hf.create_dataset(\"tracings\",  data=X_test)"
   ]
  },
  {
   "cell_type": "code",
   "execution_count": 22,
   "metadata": {},
   "outputs": [],
   "source": [
    "# X = np.concatenate((X_train, X_test), axis=0)\n",
    "# with h5py.File('X_ptb.h5', 'w') as hf:\n",
    "#     hf.create_dataset(\"tracings\",  data=X)\n"
   ]
  },
  {
   "cell_type": "code",
   "execution_count": 23,
   "metadata": {},
   "outputs": [],
   "source": [
    "# X = np.concatenate((X_train, X_test), axis=0)\n",
    "# y_df = pd.concat([y_train_df, y_test_df])\n",
    "# X_reduced = X[-int(0.02*len(X)):]\n",
    "# y_reduced = y_df[-int(0.02*len(y_df)):]\n",
    "# with h5py.File('X_reduced_ptb.h5', 'w') as hf:\n",
    "#     hf.create_dataset(\"tracings\",  data=X_reduced)\n",
    "# y_reduced.to_csv('y_reduced_ptb.csv', index=False)"
   ]
  },
  {
   "cell_type": "code",
   "execution_count": null,
   "metadata": {},
   "outputs": [],
   "source": []
  }
 ],
 "metadata": {
  "kernelspec": {
   "display_name": "ECG-Clasifier",
   "language": "python",
   "name": "python3"
  },
  "language_info": {
   "codemirror_mode": {
    "name": "ipython",
    "version": 3
   },
   "file_extension": ".py",
   "mimetype": "text/x-python",
   "name": "python",
   "nbconvert_exporter": "python",
   "pygments_lexer": "ipython3",
   "version": "3.11.7"
  }
 },
 "nbformat": 4,
 "nbformat_minor": 2
}
